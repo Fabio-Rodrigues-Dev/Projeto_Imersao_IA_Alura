{
  "nbformat": 4,
  "nbformat_minor": 0,
  "metadata": {
    "colab": {
      "provenance": [],
      "authorship_tag": "ABX9TyMBQ9U9oKSDVY5EyQrBNYvc",
      "include_colab_link": true
    },
    "kernelspec": {
      "name": "python3",
      "display_name": "Python 3"
    },
    "language_info": {
      "name": "python"
    }
  },
  "cells": [
    {
      "cell_type": "markdown",
      "metadata": {
        "id": "view-in-github",
        "colab_type": "text"
      },
      "source": [
        "<a href=\"https://colab.research.google.com/github/Fabio-Rodrigues-Dev/Projeto_Imersao_IA_Alura/blob/main/Imersao_IA_Alura.ipynb\" target=\"_parent\"><img src=\"https://colab.research.google.com/assets/colab-badge.svg\" alt=\"Open In Colab\"/></a>"
      ]
    },
    {
      "cell_type": "code",
      "execution_count": 7,
      "metadata": {
        "colab": {
          "base_uri": "https://localhost:8080/"
        },
        "id": "B7n8OPFwZLnO",
        "outputId": "ee185974-7931-45e7-c5c9-b391500198e9"
      },
      "outputs": [
        {
          "output_type": "stream",
          "name": "stdout",
          "text": [
            "**Sessão de Chat iniciada!**\n",
            "Digite seu prompt (ou \"fim\" para encerrar, ou \"histórico\" para visualizar o histórico): fim\n",
            "**Sessão de Chat encerrada!**\n"
          ]
        }
      ],
      "source": [
        "# Instalando o SDK do Google\n",
        "!pip install -q -U google-generativeai\n",
        "\n",
        "# Configurações iniciais\n",
        "import google.generativeai as genai\n",
        "import textwrap\n",
        "from IPython.display import display, Markdown\n",
        "\n",
        "# Função para formatar texto em Markdown\n",
        "def to_markdown(text):\n",
        "  text = text.replace('•', '  *')\n",
        "  return Markdown(textwrap.indent(text, '> ', predicate=lambda _: True))\n",
        "\n",
        "# Inserindo a sua API KEY\n",
        "GOOGLE_API_KEY = \"COLE USA API KEY AQUI\"\n",
        "genai.configure(api_key=GOOGLE_API_KEY)\n",
        "\n",
        "# Configurações de geração e segurança\n",
        "generation_config = {\n",
        "  \"candidate_count\": 1,\n",
        "  \"temperature\": 0.5,\n",
        "}\n",
        "\n",
        "safety_settings = {\n",
        "    'HATE': 'BLOCK_NONE',\n",
        "    'HARASSMENT': 'BLOCK_NONE',\n",
        "    'SEXUAL' : 'BLOCK_NONE',\n",
        "    'DANGEROUS' : 'BLOCK_NONE'\n",
        "}\n",
        "\n",
        "# Inicializando o modelo Gemini\n",
        "model = genai.GenerativeModel(\n",
        "    model_name='gemini-1.0-pro',\n",
        "    generation_config=generation_config,\n",
        "    safety_settings=safety_settings\n",
        ")\n",
        "\n",
        "# Iniciando uma sessão de chat\n",
        "chat = model.start_chat(history=[])\n",
        "print(\"**Sessão de Chat iniciada!**\")\n",
        "\n",
        "# Loop de interação com o modelo\n",
        "prompt = input('Digite seu prompt (ou \"fim\" para encerrar, ou \"histórico\" para visualizar o histórico): ')\n",
        "while prompt.lower() != \"fim\":\n",
        "  if prompt.lower() == \"histórico\":\n",
        "    print(\"\\n**Histórico da Conversa:**\")\n",
        "    for i, message in enumerate(chat.history):\n",
        "      display(to_markdown(f\"**{message.role} ({i+1}): ** {message.parts[0].text}\"))\n",
        "    print(\"-------------------\\n\")\n",
        "  else:\n",
        "    response = chat.send_message(prompt)\n",
        "    display(to_markdown(f\"**Você:** {prompt}\"))\n",
        "    display(to_markdown(f\"**Gemini:** {response.text}\"))\n",
        "    print(\"-------------------\")\n",
        "\n",
        "  prompt = input('Digite seu prompt (ou \"fim\" para encerrar,ou \"histórico\" para visualizar o histórico): ')\n",
        "\n",
        "print(\"**Sessão de Chat encerrada!**\")"
      ]
    }
  ]
}